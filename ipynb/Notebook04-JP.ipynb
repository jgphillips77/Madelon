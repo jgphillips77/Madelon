{
 "cells": [
  {
   "cell_type": "markdown",
   "metadata": {},
   "source": [
    "#### Jupyter Notebook, Step 4 "
   ]
  },
  {
   "cell_type": "code",
   "execution_count": 1,
   "metadata": {},
   "outputs": [
    {
     "name": "stdout",
     "output_type": "stream",
     "text": [
      "/Users/johnphillips/Desktop/DSI-Class-Stuff/Project03_on_AWS/Project_03_on_AWS\n"
     ]
    }
   ],
   "source": [
    "cd .."
   ]
  },
  {
   "cell_type": "code",
   "execution_count": 2,
   "metadata": {
    "collapsed": true
   },
   "outputs": [],
   "source": [
    "# Standard Imports\n",
    "\n",
    "import matplotlib.pyplot as plt\n",
    "import numpy as np\n",
    "import pandas as pd\n",
    "import seaborn as sns\n",
    "\n",
    "from scipy import stats\n",
    "%matplotlib inline"
   ]
  },
  {
   "cell_type": "code",
   "execution_count": 3,
   "metadata": {
    "collapsed": true
   },
   "outputs": [],
   "source": [
    "# Start with reading the data from the pickle\n",
    "train_data = pd.read_pickle('data/train_data.p')\n",
    "huge = pd.read_pickle('data/huge.p')\n",
    "new_huge = pd.read_pickle('data/new_huge.p')"
   ]
  },
  {
   "cell_type": "markdown",
   "metadata": {
    "collapsed": true
   },
   "source": [
    "### Basic Benchmark:"
   ]
  },
  {
   "cell_type": "code",
   "execution_count": 4,
   "metadata": {},
   "outputs": [
    {
     "data": {
      "text/plain": [
       "False    10000\n",
       "Name: target, dtype: int64"
      ]
     },
     "execution_count": 4,
     "metadata": {},
     "output_type": "execute_result"
    }
   ],
   "source": [
    "new_huge['target'].isnull().value_counts()"
   ]
  },
  {
   "cell_type": "code",
   "execution_count": 5,
   "metadata": {},
   "outputs": [
    {
     "data": {
      "text/plain": [
       "0    5009\n",
       "1    4991\n",
       "Name: target, dtype: int64"
      ]
     },
     "execution_count": 5,
     "metadata": {},
     "output_type": "execute_result"
    }
   ],
   "source": [
    "new_huge['target'].value_counts()"
   ]
  },
  {
   "cell_type": "code",
   "execution_count": 6,
   "metadata": {},
   "outputs": [
    {
     "name": "stdout",
     "output_type": "stream",
     "text": [
      "0.5009\n",
      "0.4991\n"
     ]
    }
   ],
   "source": [
    "print((5009.0/10000)) # What % 0?\n",
    "print((4991.0/10000)) # What % 1?\n",
    "\n",
    "# Still very balanced classes."
   ]
  },
  {
   "cell_type": "code",
   "execution_count": 7,
   "metadata": {
    "collapsed": true
   },
   "outputs": [],
   "source": [
    "# Several imports:\n",
    "from sklearn.pipeline import Pipeline, make_pipeline\n",
    "from sklearn.preprocessing import StandardScaler, MinMaxScaler\n",
    "from sklearn.linear_model import LogisticRegression\n",
    "from sklearn.tree import DecisionTreeClassifier\n",
    "from sklearn.neighbors import KNeighborsClassifier \n",
    "from sklearn.svm import SVR\n",
    "from sklearn import svm\n",
    "from sklearn.ensemble import RandomForestClassifier\n",
    "from sklearn.linear_model import Lasso #, Ridge\n",
    "from sklearn.feature_selection import SelectFromModel, SelectKBest, RFE, f_regression, chi2, f_classif\n",
    "from sklearn.model_selection import GridSearchCV"
   ]
  },
  {
   "cell_type": "markdown",
   "metadata": {},
   "source": [
    "## Big Data Work\n",
    "Can the model perform on the new bigger data set?"
   ]
  },
  {
   "cell_type": "code",
   "execution_count": 8,
   "metadata": {
    "collapsed": true
   },
   "outputs": [],
   "source": [
    "# This is for the NEW BIG Dataset with 13 features and 10,000 rows\n",
    "# Now take 10% samples of the new_huge.DataFrame\n",
    "\n",
    "big_data1 = new_huge.sample(frac=0.1, replace=False)\n",
    "big_data2 = new_huge.sample(frac=0.1, replace=False)\n",
    "big_data3 = new_huge.sample(frac=0.1, replace=False)\n",
    "\n",
    "#Need to Separate X, y to build models...\n",
    "\n",
    "X_1_big = big_data1.drop('target', axis=1)\n",
    "X_2_big = big_data2.drop('target', axis=1)\n",
    "X_3_big = big_data3.drop('target', axis=1)\n",
    "\n",
    "y_1_big = big_data1['target']\n",
    "y_2_big = big_data2['target']\n",
    "y_3_big = big_data3['target']"
   ]
  },
  {
   "cell_type": "code",
   "execution_count": 9,
   "metadata": {
    "collapsed": true
   },
   "outputs": [],
   "source": [
    "# Train-test split big_data ...\n",
    "from sklearn.model_selection import train_test_split\n",
    "X_1b_train, X_1b_test, y_1b_train, y_1b_test = train_test_split(X_1_big, y_1_big, random_state = 42)\n",
    "X_2b_train, X_2b_test, y_2b_train, y_2b_test = train_test_split(X_2_big, y_2_big, random_state = 42)\n",
    "X_3b_train, X_3b_test, y_3b_train, y_3b_test = train_test_split(X_3_big, y_3_big, random_state = 42)"
   ]
  },
  {
   "cell_type": "code",
   "execution_count": 10,
   "metadata": {
    "collapsed": true
   },
   "outputs": [],
   "source": [
    "# Let's try Recursive Feature Elimination with Logistic Regression to find some features\n",
    "rfe1_new = RFE(LogisticRegression(C=1), n_features_to_select=5, step=1, verbose=0)\n",
    "scaler = StandardScaler()\n",
    "X1b_train_scaled = scaler.fit_transform(X_1b_train)\n",
    "X1b_test_scaled = scaler.transform(X_1b_test)"
   ]
  },
  {
   "cell_type": "code",
   "execution_count": 11,
   "metadata": {
    "collapsed": true
   },
   "outputs": [],
   "source": [
    "rfe2_new = RFE(LogisticRegression(C=1), n_features_to_select=5, step=1, verbose=0)\n",
    "scaler = StandardScaler()\n",
    "X2b_train_scaled = scaler.fit_transform(X_2b_train)\n",
    "X2b_test_scaled = scaler.transform(X_2b_test)"
   ]
  },
  {
   "cell_type": "code",
   "execution_count": 12,
   "metadata": {
    "collapsed": true
   },
   "outputs": [],
   "source": [
    "rfe3_new = RFE(LogisticRegression(C=1), n_features_to_select=5, step=10, verbose=0)\n",
    "scaler = StandardScaler()\n",
    "X3b_train_scaled = scaler.fit_transform(X_3b_train)\n",
    "X3b_test_scaled = scaler.transform(X_3b_test)"
   ]
  },
  {
   "cell_type": "code",
   "execution_count": 13,
   "metadata": {},
   "outputs": [
    {
     "data": {
      "text/plain": [
       "RFE(estimator=LogisticRegression(C=1, class_weight=None, dual=False, fit_intercept=True,\n",
       "          intercept_scaling=1, max_iter=100, multi_class='ovr', n_jobs=1,\n",
       "          penalty='l2', random_state=None, solver='liblinear', tol=0.0001,\n",
       "          verbose=0, warm_start=False),\n",
       "  n_features_to_select=5, step=10, verbose=0)"
      ]
     },
     "execution_count": 13,
     "metadata": {},
     "output_type": "execute_result"
    }
   ],
   "source": [
    "rfe1_new.fit(X1b_train_scaled, y_1b_train)\n",
    "rfe2_new.fit(X2b_train_scaled, y_2b_train)\n",
    "rfe3_new.fit(X3b_train_scaled, y_3b_train)"
   ]
  },
  {
   "cell_type": "code",
   "execution_count": 14,
   "metadata": {},
   "outputs": [
    {
     "name": "stdout",
     "output_type": "stream",
     "text": [
      "The features are : [ 0  1  4  7 12]\n",
      "The features are : [ 0  2  4  7 10]\n",
      "The features are : [ 1  6  7  9 12]\n"
     ]
    }
   ],
   "source": [
    "# Print the feature index...\n",
    "rfe1_new_feats = np.where(rfe1_new.get_support())[0]\n",
    "print(\"The features are :\", rfe1_new_feats)\n",
    "\n",
    "rfe2_new_feats = np.where(rfe2_new.get_support())[0]\n",
    "print(\"The features are :\", rfe2_new_feats)\n",
    "\n",
    "rfe3_new_feats = np.where(rfe3_new.get_support())[0]\n",
    "print(\"The features are :\", rfe3_new_feats)\n"
   ]
  },
  {
   "cell_type": "code",
   "execution_count": 15,
   "metadata": {},
   "outputs": [
    {
     "data": {
      "text/plain": [
       "Index(['feat_269', 'feat_315', 'feat_341', 'feat_345', 'feat_429', 'feat_504',\n",
       "       'feat_623', 'feat_681', 'feat_701', 'feat_769', 'feat_808', 'feat_829',\n",
       "       'feat_920', 'target'],\n",
       "      dtype='object')"
      ]
     },
     "execution_count": 15,
     "metadata": {},
     "output_type": "execute_result"
    }
   ],
   "source": [
    "# Recall the column names we are working with:\n",
    "new_huge.columns"
   ]
  },
  {
   "cell_type": "markdown",
   "metadata": {},
   "source": [
    "So Here the top features would be:\n",
    "    feat_829, feat_808, feat_623, feat_681, and feat_769."
   ]
  },
  {
   "cell_type": "code",
   "execution_count": 16,
   "metadata": {},
   "outputs": [
    {
     "name": "stdout",
     "output_type": "stream",
     "text": [
      "The RFE score is : 0.61\n",
      "The RFE score is : 0.60\n",
      "The RFE score is : 0.59\n"
     ]
    }
   ],
   "source": [
    "print(\"The RFE score is : {:.2f}\".format(rfe1_new.score(X1b_train_scaled, y_1b_train)))\n",
    "print(\"The RFE score is : {:.2f}\".format(rfe2_new.score(X2b_train_scaled, y_2b_train)))\n",
    "print(\"The RFE score is : {:.2f}\".format(rfe3_new.score(X3b_train_scaled, y_3b_train)))"
   ]
  },
  {
   "cell_type": "markdown",
   "metadata": {
    "collapsed": true
   },
   "source": [
    "Not as accurate as I'd like, so let's try another way..."
   ]
  },
  {
   "cell_type": "code",
   "execution_count": 17,
   "metadata": {
    "collapsed": true
   },
   "outputs": [],
   "source": [
    "# Let's look at KNC ...\n",
    "\n",
    "knc_params = {\n",
    "    'n_neighbors': range(3,13,1)\n",
    "}\n",
    "knc_gs_new1 = GridSearchCV(KNeighborsClassifier(), param_grid= knc_params, cv=5)"
   ]
  },
  {
   "cell_type": "code",
   "execution_count": 18,
   "metadata": {},
   "outputs": [
    {
     "data": {
      "text/plain": [
       "GridSearchCV(cv=5, error_score='raise',\n",
       "       estimator=KNeighborsClassifier(algorithm='auto', leaf_size=30, metric='minkowski',\n",
       "           metric_params=None, n_jobs=1, n_neighbors=5, p=2,\n",
       "           weights='uniform'),\n",
       "       fit_params=None, iid=True, n_jobs=1,\n",
       "       param_grid={'n_neighbors': range(3, 13)}, pre_dispatch='2*n_jobs',\n",
       "       refit=True, return_train_score='warn', scoring=None, verbose=0)"
      ]
     },
     "execution_count": 18,
     "metadata": {},
     "output_type": "execute_result"
    }
   ],
   "source": [
    "knc_gs_new1.fit(X1b_train_scaled, y_1b_train)"
   ]
  },
  {
   "cell_type": "code",
   "execution_count": 20,
   "metadata": {},
   "outputs": [
    {
     "name": "stderr",
     "output_type": "stream",
     "text": [
      "/Users/johnphillips/anaconda2/envs/py36/lib/python3.6/site-packages/sklearn/utils/deprecation.py:122: FutureWarning: You are accessing a training score ('mean_train_score'), which will not be available by default any more in 0.21. If you need training scores, please set return_train_score=True\n",
      "  warnings.warn(*warn_args, **warn_kwargs)\n",
      "/Users/johnphillips/anaconda2/envs/py36/lib/python3.6/site-packages/sklearn/utils/deprecation.py:122: FutureWarning: You are accessing a training score ('split0_train_score'), which will not be available by default any more in 0.21. If you need training scores, please set return_train_score=True\n",
      "  warnings.warn(*warn_args, **warn_kwargs)\n",
      "/Users/johnphillips/anaconda2/envs/py36/lib/python3.6/site-packages/sklearn/utils/deprecation.py:122: FutureWarning: You are accessing a training score ('split1_train_score'), which will not be available by default any more in 0.21. If you need training scores, please set return_train_score=True\n",
      "  warnings.warn(*warn_args, **warn_kwargs)\n",
      "/Users/johnphillips/anaconda2/envs/py36/lib/python3.6/site-packages/sklearn/utils/deprecation.py:122: FutureWarning: You are accessing a training score ('split2_train_score'), which will not be available by default any more in 0.21. If you need training scores, please set return_train_score=True\n",
      "  warnings.warn(*warn_args, **warn_kwargs)\n",
      "/Users/johnphillips/anaconda2/envs/py36/lib/python3.6/site-packages/sklearn/utils/deprecation.py:122: FutureWarning: You are accessing a training score ('split3_train_score'), which will not be available by default any more in 0.21. If you need training scores, please set return_train_score=True\n",
      "  warnings.warn(*warn_args, **warn_kwargs)\n",
      "/Users/johnphillips/anaconda2/envs/py36/lib/python3.6/site-packages/sklearn/utils/deprecation.py:122: FutureWarning: You are accessing a training score ('split4_train_score'), which will not be available by default any more in 0.21. If you need training scores, please set return_train_score=True\n",
      "  warnings.warn(*warn_args, **warn_kwargs)\n",
      "/Users/johnphillips/anaconda2/envs/py36/lib/python3.6/site-packages/sklearn/utils/deprecation.py:122: FutureWarning: You are accessing a training score ('std_train_score'), which will not be available by default any more in 0.21. If you need training scores, please set return_train_score=True\n",
      "  warnings.warn(*warn_args, **warn_kwargs)\n"
     ]
    },
    {
     "data": {
      "text/html": [
       "<div>\n",
       "<style>\n",
       "    .dataframe thead tr:only-child th {\n",
       "        text-align: right;\n",
       "    }\n",
       "\n",
       "    .dataframe thead th {\n",
       "        text-align: left;\n",
       "    }\n",
       "\n",
       "    .dataframe tbody tr th {\n",
       "        vertical-align: top;\n",
       "    }\n",
       "</style>\n",
       "<table border=\"1\" class=\"dataframe\">\n",
       "  <thead>\n",
       "    <tr style=\"text-align: right;\">\n",
       "      <th></th>\n",
       "      <th>mean_fit_time</th>\n",
       "      <th>mean_score_time</th>\n",
       "      <th>mean_test_score</th>\n",
       "      <th>mean_train_score</th>\n",
       "      <th>param_n_neighbors</th>\n",
       "      <th>params</th>\n",
       "      <th>rank_test_score</th>\n",
       "      <th>split0_test_score</th>\n",
       "      <th>split0_train_score</th>\n",
       "      <th>split1_test_score</th>\n",
       "      <th>...</th>\n",
       "      <th>split2_test_score</th>\n",
       "      <th>split2_train_score</th>\n",
       "      <th>split3_test_score</th>\n",
       "      <th>split3_train_score</th>\n",
       "      <th>split4_test_score</th>\n",
       "      <th>split4_train_score</th>\n",
       "      <th>std_fit_time</th>\n",
       "      <th>std_score_time</th>\n",
       "      <th>std_test_score</th>\n",
       "      <th>std_train_score</th>\n",
       "    </tr>\n",
       "  </thead>\n",
       "  <tbody>\n",
       "    <tr>\n",
       "      <th>8</th>\n",
       "      <td>0.001040</td>\n",
       "      <td>0.004100</td>\n",
       "      <td>0.680000</td>\n",
       "      <td>0.747012</td>\n",
       "      <td>11</td>\n",
       "      <td>{'n_neighbors': 11}</td>\n",
       "      <td>1</td>\n",
       "      <td>0.668874</td>\n",
       "      <td>0.754591</td>\n",
       "      <td>0.622517</td>\n",
       "      <td>...</td>\n",
       "      <td>0.700000</td>\n",
       "      <td>0.745000</td>\n",
       "      <td>0.718121</td>\n",
       "      <td>0.752080</td>\n",
       "      <td>0.691275</td>\n",
       "      <td>0.725458</td>\n",
       "      <td>0.000133</td>\n",
       "      <td>0.000394</td>\n",
       "      <td>0.032927</td>\n",
       "      <td>0.011584</td>\n",
       "    </tr>\n",
       "    <tr>\n",
       "      <th>6</th>\n",
       "      <td>0.000768</td>\n",
       "      <td>0.002905</td>\n",
       "      <td>0.678667</td>\n",
       "      <td>0.751346</td>\n",
       "      <td>9</td>\n",
       "      <td>{'n_neighbors': 9}</td>\n",
       "      <td>2</td>\n",
       "      <td>0.675497</td>\n",
       "      <td>0.757930</td>\n",
       "      <td>0.615894</td>\n",
       "      <td>...</td>\n",
       "      <td>0.680000</td>\n",
       "      <td>0.765000</td>\n",
       "      <td>0.731544</td>\n",
       "      <td>0.743760</td>\n",
       "      <td>0.691275</td>\n",
       "      <td>0.733777</td>\n",
       "      <td>0.000074</td>\n",
       "      <td>0.000081</td>\n",
       "      <td>0.037186</td>\n",
       "      <td>0.011137</td>\n",
       "    </tr>\n",
       "    <tr>\n",
       "      <th>9</th>\n",
       "      <td>0.000823</td>\n",
       "      <td>0.003784</td>\n",
       "      <td>0.673333</td>\n",
       "      <td>0.726343</td>\n",
       "      <td>12</td>\n",
       "      <td>{'n_neighbors': 12}</td>\n",
       "      <td>3</td>\n",
       "      <td>0.668874</td>\n",
       "      <td>0.726210</td>\n",
       "      <td>0.609272</td>\n",
       "      <td>...</td>\n",
       "      <td>0.666667</td>\n",
       "      <td>0.731667</td>\n",
       "      <td>0.697987</td>\n",
       "      <td>0.725458</td>\n",
       "      <td>0.724832</td>\n",
       "      <td>0.710483</td>\n",
       "      <td>0.000073</td>\n",
       "      <td>0.000207</td>\n",
       "      <td>0.038559</td>\n",
       "      <td>0.009101</td>\n",
       "    </tr>\n",
       "    <tr>\n",
       "      <th>0</th>\n",
       "      <td>0.001772</td>\n",
       "      <td>0.003436</td>\n",
       "      <td>0.669333</td>\n",
       "      <td>0.830336</td>\n",
       "      <td>3</td>\n",
       "      <td>{'n_neighbors': 3}</td>\n",
       "      <td>4</td>\n",
       "      <td>0.668874</td>\n",
       "      <td>0.828047</td>\n",
       "      <td>0.655629</td>\n",
       "      <td>...</td>\n",
       "      <td>0.640000</td>\n",
       "      <td>0.816667</td>\n",
       "      <td>0.697987</td>\n",
       "      <td>0.836938</td>\n",
       "      <td>0.684564</td>\n",
       "      <td>0.826955</td>\n",
       "      <td>0.001549</td>\n",
       "      <td>0.001050</td>\n",
       "      <td>0.020473</td>\n",
       "      <td>0.009048</td>\n",
       "    </tr>\n",
       "    <tr>\n",
       "      <th>5</th>\n",
       "      <td>0.000726</td>\n",
       "      <td>0.002922</td>\n",
       "      <td>0.669333</td>\n",
       "      <td>0.740679</td>\n",
       "      <td>8</td>\n",
       "      <td>{'n_neighbors': 8}</td>\n",
       "      <td>4</td>\n",
       "      <td>0.662252</td>\n",
       "      <td>0.747913</td>\n",
       "      <td>0.629139</td>\n",
       "      <td>...</td>\n",
       "      <td>0.693333</td>\n",
       "      <td>0.741667</td>\n",
       "      <td>0.684564</td>\n",
       "      <td>0.740433</td>\n",
       "      <td>0.677852</td>\n",
       "      <td>0.722130</td>\n",
       "      <td>0.000017</td>\n",
       "      <td>0.000108</td>\n",
       "      <td>0.022607</td>\n",
       "      <td>0.010092</td>\n",
       "    </tr>\n",
       "    <tr>\n",
       "      <th>7</th>\n",
       "      <td>0.000848</td>\n",
       "      <td>0.003441</td>\n",
       "      <td>0.668000</td>\n",
       "      <td>0.737016</td>\n",
       "      <td>10</td>\n",
       "      <td>{'n_neighbors': 10}</td>\n",
       "      <td>6</td>\n",
       "      <td>0.682119</td>\n",
       "      <td>0.737896</td>\n",
       "      <td>0.622517</td>\n",
       "      <td>...</td>\n",
       "      <td>0.660000</td>\n",
       "      <td>0.745000</td>\n",
       "      <td>0.677852</td>\n",
       "      <td>0.733777</td>\n",
       "      <td>0.697987</td>\n",
       "      <td>0.712146</td>\n",
       "      <td>0.000229</td>\n",
       "      <td>0.000705</td>\n",
       "      <td>0.025833</td>\n",
       "      <td>0.014587</td>\n",
       "    </tr>\n",
       "    <tr>\n",
       "      <th>4</th>\n",
       "      <td>0.000725</td>\n",
       "      <td>0.002810</td>\n",
       "      <td>0.661333</td>\n",
       "      <td>0.757006</td>\n",
       "      <td>7</td>\n",
       "      <td>{'n_neighbors': 7}</td>\n",
       "      <td>7</td>\n",
       "      <td>0.688742</td>\n",
       "      <td>0.761269</td>\n",
       "      <td>0.615894</td>\n",
       "      <td>...</td>\n",
       "      <td>0.640000</td>\n",
       "      <td>0.758333</td>\n",
       "      <td>0.718121</td>\n",
       "      <td>0.753744</td>\n",
       "      <td>0.644295</td>\n",
       "      <td>0.750416</td>\n",
       "      <td>0.000019</td>\n",
       "      <td>0.000144</td>\n",
       "      <td>0.036828</td>\n",
       "      <td>0.004294</td>\n",
       "    </tr>\n",
       "    <tr>\n",
       "      <th>2</th>\n",
       "      <td>0.000767</td>\n",
       "      <td>0.002736</td>\n",
       "      <td>0.657333</td>\n",
       "      <td>0.777347</td>\n",
       "      <td>5</td>\n",
       "      <td>{'n_neighbors': 5}</td>\n",
       "      <td>8</td>\n",
       "      <td>0.688742</td>\n",
       "      <td>0.776294</td>\n",
       "      <td>0.635762</td>\n",
       "      <td>...</td>\n",
       "      <td>0.653333</td>\n",
       "      <td>0.775000</td>\n",
       "      <td>0.684564</td>\n",
       "      <td>0.773710</td>\n",
       "      <td>0.624161</td>\n",
       "      <td>0.762063</td>\n",
       "      <td>0.000072</td>\n",
       "      <td>0.000074</td>\n",
       "      <td>0.025718</td>\n",
       "      <td>0.012260</td>\n",
       "    </tr>\n",
       "    <tr>\n",
       "      <th>3</th>\n",
       "      <td>0.000703</td>\n",
       "      <td>0.002765</td>\n",
       "      <td>0.644000</td>\n",
       "      <td>0.747679</td>\n",
       "      <td>6</td>\n",
       "      <td>{'n_neighbors': 6}</td>\n",
       "      <td>9</td>\n",
       "      <td>0.668874</td>\n",
       "      <td>0.752922</td>\n",
       "      <td>0.629139</td>\n",
       "      <td>...</td>\n",
       "      <td>0.640000</td>\n",
       "      <td>0.746667</td>\n",
       "      <td>0.651007</td>\n",
       "      <td>0.748752</td>\n",
       "      <td>0.630872</td>\n",
       "      <td>0.728785</td>\n",
       "      <td>0.000013</td>\n",
       "      <td>0.000167</td>\n",
       "      <td>0.014705</td>\n",
       "      <td>0.010689</td>\n",
       "    </tr>\n",
       "    <tr>\n",
       "      <th>1</th>\n",
       "      <td>0.000833</td>\n",
       "      <td>0.003095</td>\n",
       "      <td>0.636000</td>\n",
       "      <td>0.764997</td>\n",
       "      <td>4</td>\n",
       "      <td>{'n_neighbors': 4}</td>\n",
       "      <td>10</td>\n",
       "      <td>0.655629</td>\n",
       "      <td>0.767947</td>\n",
       "      <td>0.615894</td>\n",
       "      <td>...</td>\n",
       "      <td>0.613333</td>\n",
       "      <td>0.746667</td>\n",
       "      <td>0.684564</td>\n",
       "      <td>0.777038</td>\n",
       "      <td>0.610738</td>\n",
       "      <td>0.767055</td>\n",
       "      <td>0.000095</td>\n",
       "      <td>0.000721</td>\n",
       "      <td>0.029275</td>\n",
       "      <td>0.009956</td>\n",
       "    </tr>\n",
       "  </tbody>\n",
       "</table>\n",
       "<p>10 rows × 21 columns</p>\n",
       "</div>"
      ],
      "text/plain": [
       "   mean_fit_time  mean_score_time  mean_test_score  mean_train_score  \\\n",
       "8       0.001040         0.004100         0.680000          0.747012   \n",
       "6       0.000768         0.002905         0.678667          0.751346   \n",
       "9       0.000823         0.003784         0.673333          0.726343   \n",
       "0       0.001772         0.003436         0.669333          0.830336   \n",
       "5       0.000726         0.002922         0.669333          0.740679   \n",
       "7       0.000848         0.003441         0.668000          0.737016   \n",
       "4       0.000725         0.002810         0.661333          0.757006   \n",
       "2       0.000767         0.002736         0.657333          0.777347   \n",
       "3       0.000703         0.002765         0.644000          0.747679   \n",
       "1       0.000833         0.003095         0.636000          0.764997   \n",
       "\n",
       "  param_n_neighbors               params  rank_test_score  split0_test_score  \\\n",
       "8                11  {'n_neighbors': 11}                1           0.668874   \n",
       "6                 9   {'n_neighbors': 9}                2           0.675497   \n",
       "9                12  {'n_neighbors': 12}                3           0.668874   \n",
       "0                 3   {'n_neighbors': 3}                4           0.668874   \n",
       "5                 8   {'n_neighbors': 8}                4           0.662252   \n",
       "7                10  {'n_neighbors': 10}                6           0.682119   \n",
       "4                 7   {'n_neighbors': 7}                7           0.688742   \n",
       "2                 5   {'n_neighbors': 5}                8           0.688742   \n",
       "3                 6   {'n_neighbors': 6}                9           0.668874   \n",
       "1                 4   {'n_neighbors': 4}               10           0.655629   \n",
       "\n",
       "   split0_train_score  split1_test_score       ...         split2_test_score  \\\n",
       "8            0.754591           0.622517       ...                  0.700000   \n",
       "6            0.757930           0.615894       ...                  0.680000   \n",
       "9            0.726210           0.609272       ...                  0.666667   \n",
       "0            0.828047           0.655629       ...                  0.640000   \n",
       "5            0.747913           0.629139       ...                  0.693333   \n",
       "7            0.737896           0.622517       ...                  0.660000   \n",
       "4            0.761269           0.615894       ...                  0.640000   \n",
       "2            0.776294           0.635762       ...                  0.653333   \n",
       "3            0.752922           0.629139       ...                  0.640000   \n",
       "1            0.767947           0.615894       ...                  0.613333   \n",
       "\n",
       "   split2_train_score  split3_test_score  split3_train_score  \\\n",
       "8            0.745000           0.718121            0.752080   \n",
       "6            0.765000           0.731544            0.743760   \n",
       "9            0.731667           0.697987            0.725458   \n",
       "0            0.816667           0.697987            0.836938   \n",
       "5            0.741667           0.684564            0.740433   \n",
       "7            0.745000           0.677852            0.733777   \n",
       "4            0.758333           0.718121            0.753744   \n",
       "2            0.775000           0.684564            0.773710   \n",
       "3            0.746667           0.651007            0.748752   \n",
       "1            0.746667           0.684564            0.777038   \n",
       "\n",
       "   split4_test_score  split4_train_score  std_fit_time  std_score_time  \\\n",
       "8           0.691275            0.725458      0.000133        0.000394   \n",
       "6           0.691275            0.733777      0.000074        0.000081   \n",
       "9           0.724832            0.710483      0.000073        0.000207   \n",
       "0           0.684564            0.826955      0.001549        0.001050   \n",
       "5           0.677852            0.722130      0.000017        0.000108   \n",
       "7           0.697987            0.712146      0.000229        0.000705   \n",
       "4           0.644295            0.750416      0.000019        0.000144   \n",
       "2           0.624161            0.762063      0.000072        0.000074   \n",
       "3           0.630872            0.728785      0.000013        0.000167   \n",
       "1           0.610738            0.767055      0.000095        0.000721   \n",
       "\n",
       "   std_test_score  std_train_score  \n",
       "8        0.032927         0.011584  \n",
       "6        0.037186         0.011137  \n",
       "9        0.038559         0.009101  \n",
       "0        0.020473         0.009048  \n",
       "5        0.022607         0.010092  \n",
       "7        0.025833         0.014587  \n",
       "4        0.036828         0.004294  \n",
       "2        0.025718         0.012260  \n",
       "3        0.014705         0.010689  \n",
       "1        0.029275         0.009956  \n",
       "\n",
       "[10 rows x 21 columns]"
      ]
     },
     "execution_count": 20,
     "metadata": {},
     "output_type": "execute_result"
    }
   ],
   "source": [
    "cv1_results = pd.DataFrame(knc_gs_new1.cv_results_)\n",
    "cv1_results.sort_values('mean_test_score', ascending=False).head(10)"
   ]
  },
  {
   "cell_type": "markdown",
   "metadata": {},
   "source": [
    "Here 11 neighbors perfoms best, but not a huge difference between that and even 8th Ranking option of 5 neighbors [less than 3% difference in mean test scores]."
   ]
  },
  {
   "cell_type": "code",
   "execution_count": null,
   "metadata": {
    "collapsed": true
   },
   "outputs": [],
   "source": []
  }
 ],
 "metadata": {
  "kernelspec": {
   "display_name": "Python [conda env:py36]",
   "language": "python",
   "name": "conda-env-py36-py"
  },
  "language_info": {
   "codemirror_mode": {
    "name": "ipython",
    "version": 3
   },
   "file_extension": ".py",
   "mimetype": "text/x-python",
   "name": "python",
   "nbconvert_exporter": "python",
   "pygments_lexer": "ipython3",
   "version": "3.6.3"
  }
 },
 "nbformat": 4,
 "nbformat_minor": 2
}
