{
 "cells": [
  {
   "cell_type": "markdown",
   "metadata": {},
   "source": [
    "##### Jupyter Notebook, Step 3 - Feature Importance\n",
    "- Use the results from step 2 to discuss feature importance in the dataset\n",
    "- Considering these results, develop a strategy for building a final predictive model"
   ]
  },
  {
   "cell_type": "code",
   "execution_count": 1,
   "metadata": {},
   "outputs": [
    {
     "name": "stdout",
     "output_type": "stream",
     "text": [
      "/Users/johnphillips/Desktop/DSI-Class-Stuff/Project03_on_AWS/Project_03_on_AWS\n"
     ]
    }
   ],
   "source": [
    "cd .."
   ]
  },
  {
   "cell_type": "code",
   "execution_count": 2,
   "metadata": {
    "collapsed": true
   },
   "outputs": [],
   "source": [
    "# Standard Imports\n",
    "\n",
    "import matplotlib.pyplot as plt\n",
    "import numpy as np\n",
    "import pandas as pd\n",
    "import seaborn as sns\n",
    "\n",
    "from scipy import stats\n",
    "%matplotlib inline"
   ]
  },
  {
   "cell_type": "code",
   "execution_count": 3,
   "metadata": {},
   "outputs": [],
   "source": [
    "# Start with reading the data from the pickle\n",
    "train_data = pd.read_pickle('data/train_data.p')\n",
    "huge = pd.read_pickle('data/huge.p')"
   ]
  },
  {
   "cell_type": "code",
   "execution_count": 4,
   "metadata": {},
   "outputs": [
    {
     "data": {
      "text/plain": [
       "(2300, 1002)"
      ]
     },
     "execution_count": 4,
     "metadata": {},
     "output_type": "execute_result"
    }
   ],
   "source": [
    "huge.shape"
   ]
  },
  {
   "cell_type": "code",
   "execution_count": 5,
   "metadata": {},
   "outputs": [
    {
     "data": {
      "text/html": [
       "<div>\n",
       "<style>\n",
       "    .dataframe thead tr:only-child th {\n",
       "        text-align: right;\n",
       "    }\n",
       "\n",
       "    .dataframe thead th {\n",
       "        text-align: left;\n",
       "    }\n",
       "\n",
       "    .dataframe tbody tr th {\n",
       "        vertical-align: top;\n",
       "    }\n",
       "</style>\n",
       "<table border=\"1\" class=\"dataframe\">\n",
       "  <thead>\n",
       "    <tr style=\"text-align: right;\">\n",
       "      <th></th>\n",
       "      <th>_id</th>\n",
       "      <th>feat_000</th>\n",
       "      <th>feat_001</th>\n",
       "      <th>feat_002</th>\n",
       "      <th>feat_003</th>\n",
       "      <th>feat_004</th>\n",
       "      <th>feat_005</th>\n",
       "      <th>feat_006</th>\n",
       "      <th>feat_007</th>\n",
       "      <th>feat_008</th>\n",
       "      <th>...</th>\n",
       "      <th>feat_991</th>\n",
       "      <th>feat_992</th>\n",
       "      <th>feat_993</th>\n",
       "      <th>feat_994</th>\n",
       "      <th>feat_995</th>\n",
       "      <th>feat_996</th>\n",
       "      <th>feat_997</th>\n",
       "      <th>feat_998</th>\n",
       "      <th>feat_999</th>\n",
       "      <th>target</th>\n",
       "    </tr>\n",
       "  </thead>\n",
       "  <tbody>\n",
       "    <tr>\n",
       "      <th>0</th>\n",
       "      <td>81264</td>\n",
       "      <td>-0.619314</td>\n",
       "      <td>-0.980879</td>\n",
       "      <td>0.260013</td>\n",
       "      <td>0.109861</td>\n",
       "      <td>-1.091660</td>\n",
       "      <td>-2.345588</td>\n",
       "      <td>0.727887</td>\n",
       "      <td>0.189447</td>\n",
       "      <td>-0.400514</td>\n",
       "      <td>...</td>\n",
       "      <td>0.524966</td>\n",
       "      <td>1.865985</td>\n",
       "      <td>0.476810</td>\n",
       "      <td>-0.562234</td>\n",
       "      <td>0.295281</td>\n",
       "      <td>-0.128997</td>\n",
       "      <td>0.679676</td>\n",
       "      <td>0.085488</td>\n",
       "      <td>-0.375616</td>\n",
       "      <td>0</td>\n",
       "    </tr>\n",
       "    <tr>\n",
       "      <th>1</th>\n",
       "      <td>81265</td>\n",
       "      <td>-0.254716</td>\n",
       "      <td>-0.507283</td>\n",
       "      <td>0.586206</td>\n",
       "      <td>0.522276</td>\n",
       "      <td>0.689763</td>\n",
       "      <td>0.083975</td>\n",
       "      <td>1.165854</td>\n",
       "      <td>-0.269793</td>\n",
       "      <td>0.509566</td>\n",
       "      <td>...</td>\n",
       "      <td>-1.476176</td>\n",
       "      <td>0.742824</td>\n",
       "      <td>-0.388359</td>\n",
       "      <td>-0.536324</td>\n",
       "      <td>1.268221</td>\n",
       "      <td>0.015912</td>\n",
       "      <td>-1.016712</td>\n",
       "      <td>0.072405</td>\n",
       "      <td>1.152787</td>\n",
       "      <td>0</td>\n",
       "    </tr>\n",
       "  </tbody>\n",
       "</table>\n",
       "<p>2 rows × 1002 columns</p>\n",
       "</div>"
      ],
      "text/plain": [
       "     _id  feat_000  feat_001  feat_002  feat_003  feat_004  feat_005  \\\n",
       "0  81264 -0.619314 -0.980879  0.260013  0.109861 -1.091660 -2.345588   \n",
       "1  81265 -0.254716 -0.507283  0.586206  0.522276  0.689763  0.083975   \n",
       "\n",
       "   feat_006  feat_007  feat_008   ...    feat_991  feat_992  feat_993  \\\n",
       "0  0.727887  0.189447 -0.400514   ...    0.524966  1.865985  0.476810   \n",
       "1  1.165854 -0.269793  0.509566   ...   -1.476176  0.742824 -0.388359   \n",
       "\n",
       "   feat_994  feat_995  feat_996  feat_997  feat_998  feat_999  target  \n",
       "0 -0.562234  0.295281 -0.128997  0.679676  0.085488 -0.375616       0  \n",
       "1 -0.536324  1.268221  0.015912 -1.016712  0.072405  1.152787       0  \n",
       "\n",
       "[2 rows x 1002 columns]"
      ]
     },
     "execution_count": 5,
     "metadata": {},
     "output_type": "execute_result"
    }
   ],
   "source": [
    "huge.head(2)"
   ]
  },
  {
   "cell_type": "markdown",
   "metadata": {},
   "source": [
    "### Basic Benchmarking:"
   ]
  },
  {
   "cell_type": "code",
   "execution_count": 6,
   "metadata": {},
   "outputs": [
    {
     "data": {
      "text/plain": [
       "False    2300\n",
       "Name: target, dtype: int64"
      ]
     },
     "execution_count": 6,
     "metadata": {},
     "output_type": "execute_result"
    }
   ],
   "source": [
    "# Check for nulls and counts:\n",
    "huge['target'].isnull().value_counts()"
   ]
  },
  {
   "cell_type": "code",
   "execution_count": 7,
   "metadata": {},
   "outputs": [
    {
     "data": {
      "text/plain": [
       "0    1151\n",
       "1    1149\n",
       "Name: target, dtype: int64"
      ]
     },
     "execution_count": 7,
     "metadata": {},
     "output_type": "execute_result"
    }
   ],
   "source": [
    "# Find count of each value:\n",
    "huge['target'].value_counts()"
   ]
  },
  {
   "cell_type": "code",
   "execution_count": 8,
   "metadata": {},
   "outputs": [
    {
     "name": "stdout",
     "output_type": "stream",
     "text": [
      "0.5004347826086957\n",
      "0.49956521739130433\n"
     ]
    }
   ],
   "source": [
    "print((1151.0/2300)) # What % are '0'?\n",
    "print(1149.0/2300) # What % are '1'?"
   ]
  },
  {
   "cell_type": "markdown",
   "metadata": {},
   "source": [
    "### Now separate target column..."
   ]
  },
  {
   "cell_type": "code",
   "execution_count": 9,
   "metadata": {},
   "outputs": [
    {
     "data": {
      "text/plain": [
       "((2300, 1001), (2300,))"
      ]
     },
     "execution_count": 9,
     "metadata": {},
     "output_type": "execute_result"
    }
   ],
   "source": [
    "X_big = huge.drop('target', axis =1)\n",
    "y_big = huge['target']\n",
    "X_big.shape, y_big.shape"
   ]
  },
  {
   "cell_type": "code",
   "execution_count": 10,
   "metadata": {
    "collapsed": true
   },
   "outputs": [],
   "source": [
    "# Train-test split big_data ...\n",
    "from sklearn.model_selection import train_test_split\n",
    "X_b_train, X_b_test, y_b_train, y_b_test = train_test_split(X_big, y_big, random_state = 42)"
   ]
  },
  {
   "cell_type": "markdown",
   "metadata": {},
   "source": [
    "## Let's reduce the number of features!"
   ]
  },
  {
   "cell_type": "code",
   "execution_count": 11,
   "metadata": {
    "collapsed": true
   },
   "outputs": [],
   "source": [
    "# Imports\n",
    "from sklearn.pipeline import Pipeline, make_pipeline\n",
    "from sklearn.preprocessing import StandardScaler\n",
    "from sklearn.linear_model import LogisticRegression\n",
    "from sklearn.tree import DecisionTreeClassifier\n",
    "from sklearn.neighbors import KNeighborsClassifier \n",
    "from sklearn.svm import SVR\n",
    "from sklearn import svm\n",
    "from sklearn.linear_model import Lasso\n",
    "from sklearn.ensemble import RandomForestClassifier\n",
    "from sklearn.feature_selection import SelectFromModel, SelectKBest, RFE, f_regression, chi2, f_classif\n",
    "from sklearn.model_selection import GridSearchCV"
   ]
  },
  {
   "cell_type": "markdown",
   "metadata": {
    "collapsed": true
   },
   "source": [
    "Let's make a transformer Pipeline to reduce the features"
   ]
  },
  {
   "cell_type": "code",
   "execution_count": 12,
   "metadata": {
    "collapsed": true
   },
   "outputs": [],
   "source": [
    "transformer_pipe_big = make_pipeline(SelectKBest(score_func=f_regression, k=13),\n",
    "                                 StandardScaler(),\n",
    "                                SelectFromModel(Lasso(), threshold='mean'))"
   ]
  },
  {
   "cell_type": "code",
   "execution_count": 13,
   "metadata": {},
   "outputs": [
    {
     "data": {
      "text/plain": [
       "Pipeline(memory=None,\n",
       "     steps=[('selectkbest', SelectKBest(k=13, score_func=<function f_regression at 0x1172ec9d8>)), ('standardscaler', StandardScaler(copy=True, with_mean=True, with_std=True)), ('selectfrommodel', SelectFromModel(estimator=Lasso(alpha=1.0, copy_X=True, fit_intercept=True, max_iter=1000,\n",
       "   normalize=False, positive=False, precompute=False, random_state=None,\n",
       "   selection='cyclic', tol=0.0001, warm_start=False),\n",
       "        norm_order=1, prefit=False, threshold='mean'))])"
      ]
     },
     "execution_count": 13,
     "metadata": {},
     "output_type": "execute_result"
    }
   ],
   "source": [
    "transformer_pipe_big.fit(X_b_train, y_b_train)"
   ]
  },
  {
   "cell_type": "code",
   "execution_count": 14,
   "metadata": {
    "collapsed": true
   },
   "outputs": [],
   "source": [
    "features_skb_scaled_sfm_big = transformer_pipe_big.transform(X_b_train)"
   ]
  },
  {
   "cell_type": "code",
   "execution_count": 15,
   "metadata": {},
   "outputs": [
    {
     "data": {
      "text/plain": [
       "((1725, 1001), (1725, 13))"
      ]
     },
     "execution_count": 15,
     "metadata": {},
     "output_type": "execute_result"
    }
   ],
   "source": [
    "X_b_train.shape, features_skb_scaled_sfm_big.shape"
   ]
  },
  {
   "cell_type": "code",
   "execution_count": 16,
   "metadata": {
    "collapsed": true
   },
   "outputs": [],
   "source": [
    "# Use .get_support to get the features\n",
    "skb_support_big = transformer_pipe_big.named_steps['selectkbest'].get_support()\n",
    "sfm_support_big = transformer_pipe_big.named_steps['selectfrommodel'].get_support()"
   ]
  },
  {
   "cell_type": "code",
   "execution_count": 17,
   "metadata": {},
   "outputs": [
    {
     "data": {
      "text/plain": [
       "Index(['feat_269', 'feat_315', 'feat_341', 'feat_345', 'feat_429', 'feat_504',\n",
       "       'feat_623', 'feat_681', 'feat_701', 'feat_769', 'feat_808', 'feat_829',\n",
       "       'feat_920'],\n",
       "      dtype='object')"
      ]
     },
     "execution_count": 17,
     "metadata": {},
     "output_type": "execute_result"
    }
   ],
   "source": [
    "# Find the columns with the features:\n",
    "new_cols = X_b_train.columns[skb_support_big][sfm_support_big]\n",
    "new_cols"
   ]
  },
  {
   "cell_type": "markdown",
   "metadata": {
    "collapsed": true
   },
   "source": [
    "Ok, using my first SQL query of the full Madelon dataset (in Notebook 00) with LIMIT 2300, I have narrowed it down to these 21 features.  Now I want to do a larger SQL query with more rows using only these columns."
   ]
  },
  {
   "cell_type": "code",
   "execution_count": null,
   "metadata": {
    "collapsed": true
   },
   "outputs": [],
   "source": []
  },
  {
   "cell_type": "code",
   "execution_count": null,
   "metadata": {
    "collapsed": true
   },
   "outputs": [],
   "source": [
    "# Let's connect and get more rows with these columns"
   ]
  },
  {
   "cell_type": "code",
   "execution_count": 15,
   "metadata": {},
   "outputs": [
    {
     "name": "stdout",
     "output_type": "stream",
     "text": [
      "Fetching package metadata ...........\n",
      "Solving package specifications: .\n",
      "\n",
      "# All requested packages already installed.\n",
      "# packages in environment at /opt/conda:\n",
      "#\n",
      "psycopg2                  2.7.3.2                  py36_0    conda-forge\n"
     ]
    }
   ],
   "source": [
    "!conda install psycopg2 --yes"
   ]
  },
  {
   "cell_type": "code",
   "execution_count": 16,
   "metadata": {
    "collapsed": true
   },
   "outputs": [],
   "source": [
    "# Imports to connect to madelon data:\n",
    "\n",
    "import psycopg2 as pg2\n",
    "from psycopg2.extras import RealDictCursor\n",
    "import pandas as pd"
   ]
  },
  {
   "cell_type": "code",
   "execution_count": 17,
   "metadata": {
    "collapsed": true
   },
   "outputs": [],
   "source": [
    "# Connection to the huge madelon data set\n",
    "\n",
    "# Careful on changing 'LIMIT' ... its 200000 rows!!!\n",
    "\n",
    "connection = pg2.connect(host='34.211.227.227',\n",
    "                  dbname='postgres',\n",
    "                  user='postgres')\n",
    "\n",
    "curs = connection.cursor(cursor_factory=RealDictCursor)\n",
    "curs.execute(\"SELECT feat_269, feat_315, feat_341, feat_345, feat_429, feat_504, feat_623, feat_681,feat_701, feat_769, feat_808, feat_829,feat_920, target FROM madelon LIMIT 10000\")  \n",
    "\n",
    "# Change LIMIT based upon how much I want, this time up the limit to 10,000\n",
    "results = curs.fetchall()\n",
    "connection.close()  # Close the connection, ALWAYS!"
   ]
  },
  {
   "cell_type": "code",
   "execution_count": 18,
   "metadata": {
    "collapsed": true
   },
   "outputs": [],
   "source": [
    "# Create a DataFrame from results\n",
    "new_huge = pd.DataFrame(results)"
   ]
  },
  {
   "cell_type": "code",
   "execution_count": 19,
   "metadata": {},
   "outputs": [
    {
     "data": {
      "text/plain": [
       "(10000, 14)"
      ]
     },
     "execution_count": 19,
     "metadata": {},
     "output_type": "execute_result"
    }
   ],
   "source": [
    "new_huge.shape # Shape of the 13 features plus the Target column."
   ]
  },
  {
   "cell_type": "code",
   "execution_count": 20,
   "metadata": {},
   "outputs": [
    {
     "data": {
      "text/plain": [
       "Index(['feat_269', 'feat_315', 'feat_341', 'feat_345', 'feat_429', 'feat_504',\n",
       "       'feat_623', 'feat_681', 'feat_701', 'feat_769', 'feat_808', 'feat_829',\n",
       "       'feat_920', 'target'],\n",
       "      dtype='object')"
      ]
     },
     "execution_count": 20,
     "metadata": {},
     "output_type": "execute_result"
    }
   ],
   "source": [
    "new_huge.columns"
   ]
  },
  {
   "cell_type": "code",
   "execution_count": 21,
   "metadata": {},
   "outputs": [
    {
     "data": {
      "text/html": [
       "<div>\n",
       "<table border=\"1\" class=\"dataframe\">\n",
       "  <thead>\n",
       "    <tr style=\"text-align: right;\">\n",
       "      <th></th>\n",
       "      <th>feat_269</th>\n",
       "      <th>feat_315</th>\n",
       "      <th>feat_341</th>\n",
       "      <th>feat_345</th>\n",
       "      <th>feat_429</th>\n",
       "      <th>feat_504</th>\n",
       "      <th>feat_623</th>\n",
       "      <th>feat_681</th>\n",
       "      <th>feat_701</th>\n",
       "      <th>feat_769</th>\n",
       "      <th>feat_808</th>\n",
       "      <th>feat_829</th>\n",
       "      <th>feat_920</th>\n",
       "      <th>target</th>\n",
       "    </tr>\n",
       "  </thead>\n",
       "  <tbody>\n",
       "    <tr>\n",
       "      <th>0</th>\n",
       "      <td>-1.835040</td>\n",
       "      <td>-0.971776</td>\n",
       "      <td>-0.421223</td>\n",
       "      <td>0.650474</td>\n",
       "      <td>1.466596</td>\n",
       "      <td>0.225235</td>\n",
       "      <td>0.581141</td>\n",
       "      <td>-0.857985</td>\n",
       "      <td>2.229031</td>\n",
       "      <td>0.002163</td>\n",
       "      <td>-0.262653</td>\n",
       "      <td>-0.867325</td>\n",
       "      <td>1.746534</td>\n",
       "      <td>1</td>\n",
       "    </tr>\n",
       "    <tr>\n",
       "      <th>1</th>\n",
       "      <td>-2.961621</td>\n",
       "      <td>-3.457891</td>\n",
       "      <td>0.731378</td>\n",
       "      <td>-0.591778</td>\n",
       "      <td>-0.502956</td>\n",
       "      <td>0.886778</td>\n",
       "      <td>2.215840</td>\n",
       "      <td>0.005938</td>\n",
       "      <td>3.417978</td>\n",
       "      <td>-0.058692</td>\n",
       "      <td>-1.118034</td>\n",
       "      <td>2.523811</td>\n",
       "      <td>0.063780</td>\n",
       "      <td>1</td>\n",
       "    </tr>\n",
       "    <tr>\n",
       "      <th>2</th>\n",
       "      <td>-1.129669</td>\n",
       "      <td>-2.230469</td>\n",
       "      <td>2.668291</td>\n",
       "      <td>1.126456</td>\n",
       "      <td>-0.764214</td>\n",
       "      <td>1.622566</td>\n",
       "      <td>2.456739</td>\n",
       "      <td>0.338810</td>\n",
       "      <td>2.803537</td>\n",
       "      <td>-1.661122</td>\n",
       "      <td>0.011031</td>\n",
       "      <td>1.974763</td>\n",
       "      <td>-0.288689</td>\n",
       "      <td>1</td>\n",
       "    </tr>\n",
       "    <tr>\n",
       "      <th>3</th>\n",
       "      <td>-0.232256</td>\n",
       "      <td>-0.158282</td>\n",
       "      <td>2.196579</td>\n",
       "      <td>0.148780</td>\n",
       "      <td>1.876990</td>\n",
       "      <td>1.681118</td>\n",
       "      <td>0.149048</td>\n",
       "      <td>-1.057360</td>\n",
       "      <td>1.402952</td>\n",
       "      <td>-0.913604</td>\n",
       "      <td>-0.192377</td>\n",
       "      <td>1.053400</td>\n",
       "      <td>0.455959</td>\n",
       "      <td>0</td>\n",
       "    </tr>\n",
       "    <tr>\n",
       "      <th>4</th>\n",
       "      <td>0.814023</td>\n",
       "      <td>0.808870</td>\n",
       "      <td>2.653546</td>\n",
       "      <td>-0.394069</td>\n",
       "      <td>-0.471106</td>\n",
       "      <td>1.998847</td>\n",
       "      <td>0.372262</td>\n",
       "      <td>-1.485622</td>\n",
       "      <td>-0.207665</td>\n",
       "      <td>-0.292007</td>\n",
       "      <td>-0.794153</td>\n",
       "      <td>2.512284</td>\n",
       "      <td>-0.543798</td>\n",
       "      <td>1</td>\n",
       "    </tr>\n",
       "  </tbody>\n",
       "</table>\n",
       "</div>"
      ],
      "text/plain": [
       "   feat_269  feat_315  feat_341  feat_345  feat_429  feat_504  feat_623  \\\n",
       "0 -1.835040 -0.971776 -0.421223  0.650474  1.466596  0.225235  0.581141   \n",
       "1 -2.961621 -3.457891  0.731378 -0.591778 -0.502956  0.886778  2.215840   \n",
       "2 -1.129669 -2.230469  2.668291  1.126456 -0.764214  1.622566  2.456739   \n",
       "3 -0.232256 -0.158282  2.196579  0.148780  1.876990  1.681118  0.149048   \n",
       "4  0.814023  0.808870  2.653546 -0.394069 -0.471106  1.998847  0.372262   \n",
       "\n",
       "   feat_681  feat_701  feat_769  feat_808  feat_829  feat_920  target  \n",
       "0 -0.857985  2.229031  0.002163 -0.262653 -0.867325  1.746534       1  \n",
       "1  0.005938  3.417978 -0.058692 -1.118034  2.523811  0.063780       1  \n",
       "2  0.338810  2.803537 -1.661122  0.011031  1.974763 -0.288689       1  \n",
       "3 -1.057360  1.402952 -0.913604 -0.192377  1.053400  0.455959       0  \n",
       "4 -1.485622 -0.207665 -0.292007 -0.794153  2.512284 -0.543798       1  "
      ]
     },
     "execution_count": 21,
     "metadata": {},
     "output_type": "execute_result"
    }
   ],
   "source": [
    "new_huge.head(5)"
   ]
  },
  {
   "cell_type": "code",
   "execution_count": 22,
   "metadata": {
    "collapsed": true
   },
   "outputs": [],
   "source": [
    "# Now Pickle Time\n",
    "# Make the pickle to use in Notebook04\n",
    "new_huge.to_pickle('data/new_huge.p')"
   ]
  },
  {
   "cell_type": "code",
   "execution_count": null,
   "metadata": {
    "collapsed": true
   },
   "outputs": [],
   "source": []
  }
 ],
 "metadata": {
  "kernelspec": {
   "display_name": "Python [conda env:py36]",
   "language": "python",
   "name": "conda-env-py36-py"
  },
  "language_info": {
   "codemirror_mode": {
    "name": "ipython",
    "version": 3
   },
   "file_extension": ".py",
   "mimetype": "text/x-python",
   "name": "python",
   "nbconvert_exporter": "python",
   "pygments_lexer": "ipython3",
   "version": "3.6.3"
  }
 },
 "nbformat": 4,
 "nbformat_minor": 2
}
