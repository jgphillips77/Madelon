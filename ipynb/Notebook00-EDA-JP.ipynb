{
 "cells": [
  {
   "cell_type": "markdown",
   "metadata": {},
   "source": [
    "Notebook 1 Think about the goals of Project 3 in terms of supervised learning and unsupervised learning. Use this to start your report!"
   ]
  },
  {
   "cell_type": "markdown",
   "metadata": {},
   "source": [
    "### Problem Statement\n",
    "\n",
    "Your challenge here is to develop a series of models for two purposes:\n",
    "\n",
    "1. for the purposes of identifying relevant features. \n",
    "2. for the purposes of generating predictions from the model. \n",
    "\n",
    "### Solution Statement\n",
    "\n",
    "Your final product will consist of:\n",
    "\n",
    "1. A prepared report\n",
    "2. A series of Jupyter notebooks to be used to control your pipelines\n",
    "\n",
    "### Tasks\n",
    "\n",
    "#### Data Manipulation\n",
    "\n",
    "You should do substantive work on at least six subsets of the data. \n",
    "\n",
    "- 3 sets of 10% of the data from the UCI Madelon set.\n",
    "- 3 sets of 10% of the data from the Larger Madelon set.\n",
    "\n",
    "##### Prepared Report\n",
    "\n",
    "Your report should:\n",
    "1. present results from Step 1: Benchmarking\n",
    "2. present results from Step 2: Identify Salient Features\n",
    "3. present results from Step 3: Feature Importances\n",
    "4. present results from Step 4: Build Model\n",
    "\n",
    "##### Jupyter Notebook, EDA \n",
    "\n",
    "- perform EDA on each set as you see necessary"
   ]
  },
  {
   "cell_type": "code",
   "execution_count": 2,
   "metadata": {},
   "outputs": [
    {
     "name": "stdout",
     "output_type": "stream",
     "text": [
      "/Users/johnphillips/Desktop/DSI-Class-Stuff/Project03_on_AWS/Project_03_on_AWS\n"
     ]
    }
   ],
   "source": [
    "cd .."
   ]
  },
  {
   "cell_type": "code",
   "execution_count": 3,
   "metadata": {
    "collapsed": true
   },
   "outputs": [],
   "source": [
    "# Standard Imports\n",
    "\n",
    "import matplotlib.pyplot as plt\n",
    "import numpy as np\n",
    "import pandas as pd\n",
    "import seaborn as sns\n",
    "\n",
    "from scipy import stats\n",
    "%matplotlib inline\n",
    "\n",
    "# Reference Feature Selection 4.3 & 4.4 Lesson"
   ]
  },
  {
   "cell_type": "code",
   "execution_count": 4,
   "metadata": {
    "collapsed": true
   },
   "outputs": [],
   "source": [
    "# UCI Madelon Data Links\n",
    "train_url = 'https://archive.ics.uci.edu/ml/machine-learning-databases/madelon/MADELON/madelon_train.data'\n",
    "train_data = pd.read_csv(train_url, delimiter=' ', header=None)\n",
    "\n",
    "train_label_url ='https://archive.ics.uci.edu/ml/machine-learning-databases/madelon/MADELON/madelon_train.labels'\n",
    "train_label_data = pd.read_csv(train_label_url, delimiter=' ', header=None)\n",
    "\n",
    "test_url ='https://archive.ics.uci.edu/ml/machine-learning-databases/madelon/MADELON/madelon_test.data'\n",
    "test_data = pd.read_csv(test_url, delimiter=' ', header=None)\n",
    "\n",
    "validate_url = 'https://archive.ics.uci.edu/ml/machine-learning-databases/madelon/MADELON/madelon_valid.data'\n"
   ]
  },
  {
   "cell_type": "code",
   "execution_count": 5,
   "metadata": {},
   "outputs": [
    {
     "data": {
      "text/html": [
       "<div>\n",
       "<style>\n",
       "    .dataframe thead tr:only-child th {\n",
       "        text-align: right;\n",
       "    }\n",
       "\n",
       "    .dataframe thead th {\n",
       "        text-align: left;\n",
       "    }\n",
       "\n",
       "    .dataframe tbody tr th {\n",
       "        vertical-align: top;\n",
       "    }\n",
       "</style>\n",
       "<table border=\"1\" class=\"dataframe\">\n",
       "  <thead>\n",
       "    <tr style=\"text-align: right;\">\n",
       "      <th></th>\n",
       "      <th>0</th>\n",
       "      <th>1</th>\n",
       "      <th>2</th>\n",
       "      <th>3</th>\n",
       "      <th>4</th>\n",
       "      <th>5</th>\n",
       "      <th>6</th>\n",
       "      <th>7</th>\n",
       "      <th>8</th>\n",
       "      <th>9</th>\n",
       "      <th>...</th>\n",
       "      <th>491</th>\n",
       "      <th>492</th>\n",
       "      <th>493</th>\n",
       "      <th>494</th>\n",
       "      <th>495</th>\n",
       "      <th>496</th>\n",
       "      <th>497</th>\n",
       "      <th>498</th>\n",
       "      <th>499</th>\n",
       "      <th>500</th>\n",
       "    </tr>\n",
       "  </thead>\n",
       "  <tbody>\n",
       "    <tr>\n",
       "      <th>0</th>\n",
       "      <td>485</td>\n",
       "      <td>477</td>\n",
       "      <td>537</td>\n",
       "      <td>479</td>\n",
       "      <td>452</td>\n",
       "      <td>471</td>\n",
       "      <td>491</td>\n",
       "      <td>476</td>\n",
       "      <td>475</td>\n",
       "      <td>473</td>\n",
       "      <td>...</td>\n",
       "      <td>481</td>\n",
       "      <td>477</td>\n",
       "      <td>485</td>\n",
       "      <td>511</td>\n",
       "      <td>485</td>\n",
       "      <td>481</td>\n",
       "      <td>479</td>\n",
       "      <td>475</td>\n",
       "      <td>496</td>\n",
       "      <td>NaN</td>\n",
       "    </tr>\n",
       "    <tr>\n",
       "      <th>1</th>\n",
       "      <td>483</td>\n",
       "      <td>458</td>\n",
       "      <td>460</td>\n",
       "      <td>487</td>\n",
       "      <td>587</td>\n",
       "      <td>475</td>\n",
       "      <td>526</td>\n",
       "      <td>479</td>\n",
       "      <td>485</td>\n",
       "      <td>469</td>\n",
       "      <td>...</td>\n",
       "      <td>478</td>\n",
       "      <td>487</td>\n",
       "      <td>338</td>\n",
       "      <td>513</td>\n",
       "      <td>486</td>\n",
       "      <td>483</td>\n",
       "      <td>492</td>\n",
       "      <td>510</td>\n",
       "      <td>517</td>\n",
       "      <td>NaN</td>\n",
       "    </tr>\n",
       "    <tr>\n",
       "      <th>2</th>\n",
       "      <td>487</td>\n",
       "      <td>542</td>\n",
       "      <td>499</td>\n",
       "      <td>468</td>\n",
       "      <td>448</td>\n",
       "      <td>471</td>\n",
       "      <td>442</td>\n",
       "      <td>478</td>\n",
       "      <td>480</td>\n",
       "      <td>477</td>\n",
       "      <td>...</td>\n",
       "      <td>481</td>\n",
       "      <td>492</td>\n",
       "      <td>650</td>\n",
       "      <td>506</td>\n",
       "      <td>501</td>\n",
       "      <td>480</td>\n",
       "      <td>489</td>\n",
       "      <td>499</td>\n",
       "      <td>498</td>\n",
       "      <td>NaN</td>\n",
       "    </tr>\n",
       "  </tbody>\n",
       "</table>\n",
       "<p>3 rows × 501 columns</p>\n",
       "</div>"
      ],
      "text/plain": [
       "   0    1    2    3    4    5    6    7    8    9   ...   491  492  493  494  \\\n",
       "0  485  477  537  479  452  471  491  476  475  473 ...   481  477  485  511   \n",
       "1  483  458  460  487  587  475  526  479  485  469 ...   478  487  338  513   \n",
       "2  487  542  499  468  448  471  442  478  480  477 ...   481  492  650  506   \n",
       "\n",
       "   495  496  497  498  499  500  \n",
       "0  485  481  479  475  496  NaN  \n",
       "1  486  483  492  510  517  NaN  \n",
       "2  501  480  489  499  498  NaN  \n",
       "\n",
       "[3 rows x 501 columns]"
      ]
     },
     "execution_count": 5,
     "metadata": {},
     "output_type": "execute_result"
    }
   ],
   "source": [
    "train_data.head(3)"
   ]
  },
  {
   "cell_type": "code",
   "execution_count": 6,
   "metadata": {},
   "outputs": [
    {
     "data": {
      "text/html": [
       "<div>\n",
       "<style>\n",
       "    .dataframe thead tr:only-child th {\n",
       "        text-align: right;\n",
       "    }\n",
       "\n",
       "    .dataframe thead th {\n",
       "        text-align: left;\n",
       "    }\n",
       "\n",
       "    .dataframe tbody tr th {\n",
       "        vertical-align: top;\n",
       "    }\n",
       "</style>\n",
       "<table border=\"1\" class=\"dataframe\">\n",
       "  <thead>\n",
       "    <tr style=\"text-align: right;\">\n",
       "      <th></th>\n",
       "      <th>0</th>\n",
       "      <th>1</th>\n",
       "      <th>2</th>\n",
       "      <th>3</th>\n",
       "      <th>4</th>\n",
       "      <th>5</th>\n",
       "      <th>6</th>\n",
       "      <th>7</th>\n",
       "      <th>8</th>\n",
       "      <th>9</th>\n",
       "      <th>...</th>\n",
       "      <th>491</th>\n",
       "      <th>492</th>\n",
       "      <th>493</th>\n",
       "      <th>494</th>\n",
       "      <th>495</th>\n",
       "      <th>496</th>\n",
       "      <th>497</th>\n",
       "      <th>498</th>\n",
       "      <th>499</th>\n",
       "      <th>500</th>\n",
       "    </tr>\n",
       "  </thead>\n",
       "  <tbody>\n",
       "    <tr>\n",
       "      <th>1797</th>\n",
       "      <td>479</td>\n",
       "      <td>499</td>\n",
       "      <td>538</td>\n",
       "      <td>462</td>\n",
       "      <td>481</td>\n",
       "      <td>476</td>\n",
       "      <td>472</td>\n",
       "      <td>474</td>\n",
       "      <td>465</td>\n",
       "      <td>475</td>\n",
       "      <td>...</td>\n",
       "      <td>480</td>\n",
       "      <td>492</td>\n",
       "      <td>458</td>\n",
       "      <td>503</td>\n",
       "      <td>590</td>\n",
       "      <td>472</td>\n",
       "      <td>474</td>\n",
       "      <td>482</td>\n",
       "      <td>446</td>\n",
       "      <td>NaN</td>\n",
       "    </tr>\n",
       "    <tr>\n",
       "      <th>1798</th>\n",
       "      <td>481</td>\n",
       "      <td>499</td>\n",
       "      <td>493</td>\n",
       "      <td>490</td>\n",
       "      <td>495</td>\n",
       "      <td>482</td>\n",
       "      <td>478</td>\n",
       "      <td>478</td>\n",
       "      <td>469</td>\n",
       "      <td>473</td>\n",
       "      <td>...</td>\n",
       "      <td>483</td>\n",
       "      <td>509</td>\n",
       "      <td>571</td>\n",
       "      <td>523</td>\n",
       "      <td>514</td>\n",
       "      <td>478</td>\n",
       "      <td>491</td>\n",
       "      <td>534</td>\n",
       "      <td>494</td>\n",
       "      <td>NaN</td>\n",
       "    </tr>\n",
       "    <tr>\n",
       "      <th>1799</th>\n",
       "      <td>481</td>\n",
       "      <td>439</td>\n",
       "      <td>543</td>\n",
       "      <td>488</td>\n",
       "      <td>476</td>\n",
       "      <td>470</td>\n",
       "      <td>474</td>\n",
       "      <td>475</td>\n",
       "      <td>467</td>\n",
       "      <td>464</td>\n",
       "      <td>...</td>\n",
       "      <td>488</td>\n",
       "      <td>463</td>\n",
       "      <td>607</td>\n",
       "      <td>523</td>\n",
       "      <td>495</td>\n",
       "      <td>486</td>\n",
       "      <td>467</td>\n",
       "      <td>502</td>\n",
       "      <td>479</td>\n",
       "      <td>NaN</td>\n",
       "    </tr>\n",
       "  </tbody>\n",
       "</table>\n",
       "<p>3 rows × 501 columns</p>\n",
       "</div>"
      ],
      "text/plain": [
       "      0    1    2    3    4    5    6    7    8    9   ...   491  492  493  \\\n",
       "1797  479  499  538  462  481  476  472  474  465  475 ...   480  492  458   \n",
       "1798  481  499  493  490  495  482  478  478  469  473 ...   483  509  571   \n",
       "1799  481  439  543  488  476  470  474  475  467  464 ...   488  463  607   \n",
       "\n",
       "      494  495  496  497  498  499  500  \n",
       "1797  503  590  472  474  482  446  NaN  \n",
       "1798  523  514  478  491  534  494  NaN  \n",
       "1799  523  495  486  467  502  479  NaN  \n",
       "\n",
       "[3 rows x 501 columns]"
      ]
     },
     "execution_count": 6,
     "metadata": {},
     "output_type": "execute_result"
    }
   ],
   "source": [
    "test_data.tail(3)"
   ]
  },
  {
   "cell_type": "code",
   "execution_count": 7,
   "metadata": {},
   "outputs": [
    {
     "data": {
      "text/plain": [
       "0   NaN\n",
       "1   NaN\n",
       "2   NaN\n",
       "3   NaN\n",
       "4   NaN\n",
       "Name: 500, dtype: float64"
      ]
     },
     "execution_count": 7,
     "metadata": {},
     "output_type": "execute_result"
    }
   ],
   "source": [
    "train_data[500].head(5)"
   ]
  },
  {
   "cell_type": "code",
   "execution_count": 8,
   "metadata": {},
   "outputs": [
    {
     "data": {
      "text/plain": [
       "0   NaN\n",
       "1   NaN\n",
       "2   NaN\n",
       "3   NaN\n",
       "4   NaN\n",
       "Name: 500, dtype: float64"
      ]
     },
     "execution_count": 8,
     "metadata": {},
     "output_type": "execute_result"
    }
   ],
   "source": [
    "test_data[500].head(5)"
   ]
  },
  {
   "cell_type": "code",
   "execution_count": 9,
   "metadata": {
    "collapsed": true
   },
   "outputs": [],
   "source": [
    "train_data.drop(500, axis=1, inplace=True)\n",
    "test_data.drop(500, axis=1, inplace=True)"
   ]
  },
  {
   "cell_type": "code",
   "execution_count": 10,
   "metadata": {},
   "outputs": [
    {
     "data": {
      "text/html": [
       "<div>\n",
       "<style>\n",
       "    .dataframe thead tr:only-child th {\n",
       "        text-align: right;\n",
       "    }\n",
       "\n",
       "    .dataframe thead th {\n",
       "        text-align: left;\n",
       "    }\n",
       "\n",
       "    .dataframe tbody tr th {\n",
       "        vertical-align: top;\n",
       "    }\n",
       "</style>\n",
       "<table border=\"1\" class=\"dataframe\">\n",
       "  <thead>\n",
       "    <tr style=\"text-align: right;\">\n",
       "      <th></th>\n",
       "      <th>0</th>\n",
       "    </tr>\n",
       "  </thead>\n",
       "  <tbody>\n",
       "    <tr>\n",
       "      <th>0</th>\n",
       "      <td>-1</td>\n",
       "    </tr>\n",
       "    <tr>\n",
       "      <th>1</th>\n",
       "      <td>-1</td>\n",
       "    </tr>\n",
       "    <tr>\n",
       "      <th>2</th>\n",
       "      <td>-1</td>\n",
       "    </tr>\n",
       "    <tr>\n",
       "      <th>3</th>\n",
       "      <td>1</td>\n",
       "    </tr>\n",
       "  </tbody>\n",
       "</table>\n",
       "</div>"
      ],
      "text/plain": [
       "   0\n",
       "0 -1\n",
       "1 -1\n",
       "2 -1\n",
       "3  1"
      ]
     },
     "execution_count": 10,
     "metadata": {},
     "output_type": "execute_result"
    }
   ],
   "source": [
    "train_label_data.head(4)"
   ]
  },
  {
   "cell_type": "code",
   "execution_count": 11,
   "metadata": {
    "collapsed": true
   },
   "outputs": [],
   "source": [
    "train_data['Label'] = train_label_data"
   ]
  },
  {
   "cell_type": "code",
   "execution_count": 12,
   "metadata": {},
   "outputs": [
    {
     "data": {
      "text/html": [
       "<div>\n",
       "<style>\n",
       "    .dataframe thead tr:only-child th {\n",
       "        text-align: right;\n",
       "    }\n",
       "\n",
       "    .dataframe thead th {\n",
       "        text-align: left;\n",
       "    }\n",
       "\n",
       "    .dataframe tbody tr th {\n",
       "        vertical-align: top;\n",
       "    }\n",
       "</style>\n",
       "<table border=\"1\" class=\"dataframe\">\n",
       "  <thead>\n",
       "    <tr style=\"text-align: right;\">\n",
       "      <th></th>\n",
       "      <th>0</th>\n",
       "      <th>1</th>\n",
       "      <th>2</th>\n",
       "      <th>3</th>\n",
       "      <th>4</th>\n",
       "      <th>5</th>\n",
       "      <th>6</th>\n",
       "      <th>7</th>\n",
       "      <th>8</th>\n",
       "      <th>9</th>\n",
       "      <th>...</th>\n",
       "      <th>491</th>\n",
       "      <th>492</th>\n",
       "      <th>493</th>\n",
       "      <th>494</th>\n",
       "      <th>495</th>\n",
       "      <th>496</th>\n",
       "      <th>497</th>\n",
       "      <th>498</th>\n",
       "      <th>499</th>\n",
       "      <th>Label</th>\n",
       "    </tr>\n",
       "  </thead>\n",
       "  <tbody>\n",
       "    <tr>\n",
       "      <th>0</th>\n",
       "      <td>485</td>\n",
       "      <td>477</td>\n",
       "      <td>537</td>\n",
       "      <td>479</td>\n",
       "      <td>452</td>\n",
       "      <td>471</td>\n",
       "      <td>491</td>\n",
       "      <td>476</td>\n",
       "      <td>475</td>\n",
       "      <td>473</td>\n",
       "      <td>...</td>\n",
       "      <td>481</td>\n",
       "      <td>477</td>\n",
       "      <td>485</td>\n",
       "      <td>511</td>\n",
       "      <td>485</td>\n",
       "      <td>481</td>\n",
       "      <td>479</td>\n",
       "      <td>475</td>\n",
       "      <td>496</td>\n",
       "      <td>-1</td>\n",
       "    </tr>\n",
       "    <tr>\n",
       "      <th>1</th>\n",
       "      <td>483</td>\n",
       "      <td>458</td>\n",
       "      <td>460</td>\n",
       "      <td>487</td>\n",
       "      <td>587</td>\n",
       "      <td>475</td>\n",
       "      <td>526</td>\n",
       "      <td>479</td>\n",
       "      <td>485</td>\n",
       "      <td>469</td>\n",
       "      <td>...</td>\n",
       "      <td>478</td>\n",
       "      <td>487</td>\n",
       "      <td>338</td>\n",
       "      <td>513</td>\n",
       "      <td>486</td>\n",
       "      <td>483</td>\n",
       "      <td>492</td>\n",
       "      <td>510</td>\n",
       "      <td>517</td>\n",
       "      <td>-1</td>\n",
       "    </tr>\n",
       "    <tr>\n",
       "      <th>2</th>\n",
       "      <td>487</td>\n",
       "      <td>542</td>\n",
       "      <td>499</td>\n",
       "      <td>468</td>\n",
       "      <td>448</td>\n",
       "      <td>471</td>\n",
       "      <td>442</td>\n",
       "      <td>478</td>\n",
       "      <td>480</td>\n",
       "      <td>477</td>\n",
       "      <td>...</td>\n",
       "      <td>481</td>\n",
       "      <td>492</td>\n",
       "      <td>650</td>\n",
       "      <td>506</td>\n",
       "      <td>501</td>\n",
       "      <td>480</td>\n",
       "      <td>489</td>\n",
       "      <td>499</td>\n",
       "      <td>498</td>\n",
       "      <td>-1</td>\n",
       "    </tr>\n",
       "    <tr>\n",
       "      <th>3</th>\n",
       "      <td>480</td>\n",
       "      <td>491</td>\n",
       "      <td>510</td>\n",
       "      <td>485</td>\n",
       "      <td>495</td>\n",
       "      <td>472</td>\n",
       "      <td>417</td>\n",
       "      <td>474</td>\n",
       "      <td>502</td>\n",
       "      <td>476</td>\n",
       "      <td>...</td>\n",
       "      <td>480</td>\n",
       "      <td>474</td>\n",
       "      <td>572</td>\n",
       "      <td>454</td>\n",
       "      <td>469</td>\n",
       "      <td>475</td>\n",
       "      <td>482</td>\n",
       "      <td>494</td>\n",
       "      <td>461</td>\n",
       "      <td>1</td>\n",
       "    </tr>\n",
       "  </tbody>\n",
       "</table>\n",
       "<p>4 rows × 501 columns</p>\n",
       "</div>"
      ],
      "text/plain": [
       "     0    1    2    3    4    5    6    7    8    9  ...    491  492  493  \\\n",
       "0  485  477  537  479  452  471  491  476  475  473  ...    481  477  485   \n",
       "1  483  458  460  487  587  475  526  479  485  469  ...    478  487  338   \n",
       "2  487  542  499  468  448  471  442  478  480  477  ...    481  492  650   \n",
       "3  480  491  510  485  495  472  417  474  502  476  ...    480  474  572   \n",
       "\n",
       "   494  495  496  497  498  499  Label  \n",
       "0  511  485  481  479  475  496     -1  \n",
       "1  513  486  483  492  510  517     -1  \n",
       "2  506  501  480  489  499  498     -1  \n",
       "3  454  469  475  482  494  461      1  \n",
       "\n",
       "[4 rows x 501 columns]"
      ]
     },
     "execution_count": 12,
     "metadata": {},
     "output_type": "execute_result"
    }
   ],
   "source": [
    "train_data.head(4)"
   ]
  },
  {
   "cell_type": "markdown",
   "metadata": {},
   "source": [
    "### Basic Benchmarking:"
   ]
  },
  {
   "cell_type": "code",
   "execution_count": 13,
   "metadata": {},
   "outputs": [
    {
     "data": {
      "text/plain": [
       "False    2000\n",
       "Name: Label, dtype: int64"
      ]
     },
     "execution_count": 13,
     "metadata": {},
     "output_type": "execute_result"
    }
   ],
   "source": [
    "# Check for nulls and counts:\n",
    "train_data['Label'].isnull().value_counts()"
   ]
  },
  {
   "cell_type": "code",
   "execution_count": 14,
   "metadata": {},
   "outputs": [
    {
     "data": {
      "text/plain": [
       " 1    1000\n",
       "-1    1000\n",
       "Name: Label, dtype: int64"
      ]
     },
     "execution_count": 14,
     "metadata": {},
     "output_type": "execute_result"
    }
   ],
   "source": [
    "# Find count of each value:\n",
    "train_data['Label'].value_counts()"
   ]
  },
  {
   "cell_type": "code",
   "execution_count": 15,
   "metadata": {},
   "outputs": [
    {
     "name": "stdout",
     "output_type": "stream",
     "text": [
      "0.5\n",
      "0.5\n"
     ]
    }
   ],
   "source": [
    "print((1000.0/2000)) # What % are '1'?\n",
    "print(1000.0/2000) # What % are '-1'?"
   ]
  },
  {
   "cell_type": "code",
   "execution_count": 16,
   "metadata": {
    "collapsed": true
   },
   "outputs": [],
   "source": [
    "# Now Pickle Time\n",
    "train_data.to_pickle('data/train_data.p')"
   ]
  },
  {
   "cell_type": "code",
   "execution_count": null,
   "metadata": {
    "collapsed": true
   },
   "outputs": [],
   "source": []
  },
  {
   "cell_type": "markdown",
   "metadata": {
    "collapsed": true
   },
   "source": [
    "Move to Notebook 01 from here..."
   ]
  },
  {
   "cell_type": "markdown",
   "metadata": {
    "collapsed": true
   },
   "source": [
    "Will go ahead and import the BIG data to use later. \n",
    "My goal is to import a dataset now with all the features,\n",
    "narrow down the features, and then import a dataset\n",
    "with only the important features but many rows."
   ]
  },
  {
   "cell_type": "code",
   "execution_count": 1,
   "metadata": {},
   "outputs": [
    {
     "name": "stdout",
     "output_type": "stream",
     "text": [
      "Solving environment: done\n",
      "\n",
      "## Package Plan ##\n",
      "\n",
      "  environment location: /Users/johnphillips/anaconda2\n",
      "\n",
      "  added / updated specs: \n",
      "    - psycopg2\n",
      "\n",
      "\n",
      "The following packages will be downloaded:\n",
      "\n",
      "    package                    |            build\n",
      "    ---------------------------|-----------------\n",
      "    openssl-1.0.2n             |       hdbc3d79_0         3.4 MB\n",
      "    certifi-2017.11.5          |   py27hfa9a1c4_0         196 KB\n",
      "    ------------------------------------------------------------\n",
      "                                           Total:         3.6 MB\n",
      "\n",
      "The following packages will be UPDATED:\n",
      "\n",
      "    certifi: 2017.7.27.1-py27h482ffc0_0 --> 2017.11.5-py27hfa9a1c4_0\n",
      "    openssl: 1.0.2m-h86d3e6a_1          --> 1.0.2n-hdbc3d79_0       \n",
      "\n",
      "\n",
      "Downloading and Extracting Packages\n",
      "openssl 1.0.2n: ######################################################## | 100% \n",
      "certifi 2017.11.5: ##################################################### | 100% \n",
      "Preparing transaction: done\n",
      "Verifying transaction: done\n",
      "Executing transaction: done\n"
     ]
    }
   ],
   "source": [
    "!conda install psycopg2 --yes"
   ]
  },
  {
   "cell_type": "code",
   "execution_count": 17,
   "metadata": {
    "collapsed": true
   },
   "outputs": [],
   "source": [
    "# Imports to connect to madelon data:\n",
    "\n",
    "import psycopg2 as pg2\n",
    "from psycopg2.extras import RealDictCursor\n",
    "import pandas as pd"
   ]
  },
  {
   "cell_type": "code",
   "execution_count": null,
   "metadata": {
    "collapsed": true
   },
   "outputs": [],
   "source": [
    "# Connection to the huge madelon data set\n",
    "\n",
    "# Careful on changing 'LIMIT' ... its 200000 rows!!!\n",
    "\n",
    "# Want to use t2.medium (if i can get it to run!) \n",
    "# and then increase to LIMIT 6500 or more later ...\n",
    "\n",
    "connection = pg2.connect(host='34.211.227.227',\n",
    "                  dbname='postgres',\n",
    "                  user='postgres')\n",
    "curs = connection.cursor(cursor_factory=RealDictCursor)\n",
    "curs.execute('SELECT * FROM madelon LIMIT 2300;')  # Change LIMIT based upon how much I want\n",
    "results = curs.fetchall()\n",
    "connection.close()  # Close the connection, ALWAYS!"
   ]
  },
  {
   "cell_type": "code",
   "execution_count": null,
   "metadata": {
    "collapsed": true
   },
   "outputs": [],
   "source": [
    "# Create a DataFrame from results\n",
    "huge = pd.DataFrame(results)"
   ]
  },
  {
   "cell_type": "code",
   "execution_count": null,
   "metadata": {
    "collapsed": true
   },
   "outputs": [],
   "source": [
    "huge.shape"
   ]
  },
  {
   "cell_type": "code",
   "execution_count": 16,
   "metadata": {},
   "outputs": [
    {
     "data": {
      "text/html": [
       "<div>\n",
       "<table border=\"1\" class=\"dataframe\">\n",
       "  <thead>\n",
       "    <tr style=\"text-align: right;\">\n",
       "      <th></th>\n",
       "      <th>_id</th>\n",
       "      <th>feat_000</th>\n",
       "      <th>feat_001</th>\n",
       "      <th>feat_002</th>\n",
       "      <th>feat_003</th>\n",
       "      <th>feat_004</th>\n",
       "      <th>feat_005</th>\n",
       "      <th>feat_006</th>\n",
       "      <th>feat_007</th>\n",
       "      <th>feat_008</th>\n",
       "      <th>...</th>\n",
       "      <th>feat_991</th>\n",
       "      <th>feat_992</th>\n",
       "      <th>feat_993</th>\n",
       "      <th>feat_994</th>\n",
       "      <th>feat_995</th>\n",
       "      <th>feat_996</th>\n",
       "      <th>feat_997</th>\n",
       "      <th>feat_998</th>\n",
       "      <th>feat_999</th>\n",
       "      <th>target</th>\n",
       "    </tr>\n",
       "  </thead>\n",
       "  <tbody>\n",
       "    <tr>\n",
       "      <th>0</th>\n",
       "      <td>81264</td>\n",
       "      <td>-0.619314</td>\n",
       "      <td>-0.980879</td>\n",
       "      <td>0.260013</td>\n",
       "      <td>0.109861</td>\n",
       "      <td>-1.091660</td>\n",
       "      <td>-2.345588</td>\n",
       "      <td>0.727887</td>\n",
       "      <td>0.189447</td>\n",
       "      <td>-0.400514</td>\n",
       "      <td>...</td>\n",
       "      <td>0.524966</td>\n",
       "      <td>1.865985</td>\n",
       "      <td>0.476810</td>\n",
       "      <td>-0.562234</td>\n",
       "      <td>0.295281</td>\n",
       "      <td>-0.128997</td>\n",
       "      <td>0.679676</td>\n",
       "      <td>0.085488</td>\n",
       "      <td>-0.375616</td>\n",
       "      <td>0</td>\n",
       "    </tr>\n",
       "    <tr>\n",
       "      <th>1</th>\n",
       "      <td>81265</td>\n",
       "      <td>-0.254716</td>\n",
       "      <td>-0.507283</td>\n",
       "      <td>0.586206</td>\n",
       "      <td>0.522276</td>\n",
       "      <td>0.689763</td>\n",
       "      <td>0.083975</td>\n",
       "      <td>1.165854</td>\n",
       "      <td>-0.269793</td>\n",
       "      <td>0.509566</td>\n",
       "      <td>...</td>\n",
       "      <td>-1.476176</td>\n",
       "      <td>0.742824</td>\n",
       "      <td>-0.388359</td>\n",
       "      <td>-0.536324</td>\n",
       "      <td>1.268221</td>\n",
       "      <td>0.015912</td>\n",
       "      <td>-1.016712</td>\n",
       "      <td>0.072405</td>\n",
       "      <td>1.152787</td>\n",
       "      <td>0</td>\n",
       "    </tr>\n",
       "    <tr>\n",
       "      <th>2</th>\n",
       "      <td>81266</td>\n",
       "      <td>-1.730033</td>\n",
       "      <td>-0.039938</td>\n",
       "      <td>-0.199574</td>\n",
       "      <td>0.592114</td>\n",
       "      <td>-0.016629</td>\n",
       "      <td>-0.352547</td>\n",
       "      <td>-1.269467</td>\n",
       "      <td>-0.962625</td>\n",
       "      <td>0.709714</td>\n",
       "      <td>...</td>\n",
       "      <td>-0.833891</td>\n",
       "      <td>1.954665</td>\n",
       "      <td>1.247889</td>\n",
       "      <td>-1.585030</td>\n",
       "      <td>0.694697</td>\n",
       "      <td>-1.908100</td>\n",
       "      <td>0.093070</td>\n",
       "      <td>-2.160079</td>\n",
       "      <td>-1.860555</td>\n",
       "      <td>1</td>\n",
       "    </tr>\n",
       "  </tbody>\n",
       "</table>\n",
       "<p>3 rows × 1002 columns</p>\n",
       "</div>"
      ],
      "text/plain": [
       "     _id  feat_000  feat_001  feat_002  feat_003  feat_004  feat_005  \\\n",
       "0  81264 -0.619314 -0.980879  0.260013  0.109861 -1.091660 -2.345588   \n",
       "1  81265 -0.254716 -0.507283  0.586206  0.522276  0.689763  0.083975   \n",
       "2  81266 -1.730033 -0.039938 -0.199574  0.592114 -0.016629 -0.352547   \n",
       "\n",
       "   feat_006  feat_007  feat_008   ...    feat_991  feat_992  feat_993  \\\n",
       "0  0.727887  0.189447 -0.400514   ...    0.524966  1.865985  0.476810   \n",
       "1  1.165854 -0.269793  0.509566   ...   -1.476176  0.742824 -0.388359   \n",
       "2 -1.269467 -0.962625  0.709714   ...   -0.833891  1.954665  1.247889   \n",
       "\n",
       "   feat_994  feat_995  feat_996  feat_997  feat_998  feat_999  target  \n",
       "0 -0.562234  0.295281 -0.128997  0.679676  0.085488 -0.375616       0  \n",
       "1 -0.536324  1.268221  0.015912 -1.016712  0.072405  1.152787       0  \n",
       "2 -1.585030  0.694697 -1.908100  0.093070 -2.160079 -1.860555       1  \n",
       "\n",
       "[3 rows x 1002 columns]"
      ]
     },
     "execution_count": 16,
     "metadata": {},
     "output_type": "execute_result"
    }
   ],
   "source": [
    "huge.head(3)"
   ]
  },
  {
   "cell_type": "code",
   "execution_count": null,
   "metadata": {
    "collapsed": true
   },
   "outputs": [],
   "source": []
  },
  {
   "cell_type": "code",
   "execution_count": null,
   "metadata": {
    "collapsed": true
   },
   "outputs": [],
   "source": []
  },
  {
   "cell_type": "code",
   "execution_count": null,
   "metadata": {
    "collapsed": true
   },
   "outputs": [],
   "source": []
  },
  {
   "cell_type": "code",
   "execution_count": 18,
   "metadata": {
    "collapsed": true
   },
   "outputs": [],
   "source": [
    "# Now Pickle Time\n",
    "huge.to_pickle('data/huge.p')"
   ]
  },
  {
   "cell_type": "code",
   "execution_count": null,
   "metadata": {
    "collapsed": true
   },
   "outputs": [],
   "source": []
  }
 ],
 "metadata": {
  "kernelspec": {
   "display_name": "Python [conda root]",
   "language": "python",
   "name": "conda-root-py"
  },
  "language_info": {
   "codemirror_mode": {
    "name": "ipython",
    "version": 2
   },
   "file_extension": ".py",
   "mimetype": "text/x-python",
   "name": "python",
   "nbconvert_exporter": "python",
   "pygments_lexer": "ipython2",
   "version": "2.7.14"
  }
 },
 "nbformat": 4,
 "nbformat_minor": 2
}
